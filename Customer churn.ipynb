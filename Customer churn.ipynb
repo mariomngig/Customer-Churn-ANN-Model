{
 "cells": [
  {
   "cell_type": "markdown",
   "metadata": {},
   "source": [
    "# Importing Libraries and the dataset"
   ]
  },
  {
   "cell_type": "code",
   "execution_count": 1148,
   "metadata": {},
   "outputs": [],
   "source": [
    "import pandas as pd\n",
    "import numpy as np\n",
    "import matplotlib.pyplot as plt"
   ]
  },
  {
   "cell_type": "code",
   "execution_count": 1149,
   "metadata": {},
   "outputs": [
    {
     "data": {
      "text/html": [
       "<div>\n",
       "<style scoped>\n",
       "    .dataframe tbody tr th:only-of-type {\n",
       "        vertical-align: middle;\n",
       "    }\n",
       "\n",
       "    .dataframe tbody tr th {\n",
       "        vertical-align: top;\n",
       "    }\n",
       "\n",
       "    .dataframe thead th {\n",
       "        text-align: right;\n",
       "    }\n",
       "</style>\n",
       "<table border=\"1\" class=\"dataframe\">\n",
       "  <thead>\n",
       "    <tr style=\"text-align: right;\">\n",
       "      <th></th>\n",
       "      <th>RowNumber</th>\n",
       "      <th>CustomerId</th>\n",
       "      <th>Surname</th>\n",
       "      <th>CreditScore</th>\n",
       "      <th>Geography</th>\n",
       "      <th>Gender</th>\n",
       "      <th>Age</th>\n",
       "      <th>Tenure</th>\n",
       "      <th>Balance</th>\n",
       "      <th>NumOfProducts</th>\n",
       "      <th>HasCrCard</th>\n",
       "      <th>IsActiveMember</th>\n",
       "      <th>EstimatedSalary</th>\n",
       "      <th>Exited</th>\n",
       "    </tr>\n",
       "  </thead>\n",
       "  <tbody>\n",
       "    <tr>\n",
       "      <th>1736</th>\n",
       "      <td>1737</td>\n",
       "      <td>15663489</td>\n",
       "      <td>Onio</td>\n",
       "      <td>633</td>\n",
       "      <td>Germany</td>\n",
       "      <td>Female</td>\n",
       "      <td>29</td>\n",
       "      <td>0</td>\n",
       "      <td>138577.34</td>\n",
       "      <td>1</td>\n",
       "      <td>1</td>\n",
       "      <td>0</td>\n",
       "      <td>193362.99</td>\n",
       "      <td>0</td>\n",
       "    </tr>\n",
       "    <tr>\n",
       "      <th>3188</th>\n",
       "      <td>3189</td>\n",
       "      <td>15586757</td>\n",
       "      <td>Anenechukwu</td>\n",
       "      <td>801</td>\n",
       "      <td>France</td>\n",
       "      <td>Female</td>\n",
       "      <td>32</td>\n",
       "      <td>4</td>\n",
       "      <td>75170.54</td>\n",
       "      <td>1</td>\n",
       "      <td>1</td>\n",
       "      <td>1</td>\n",
       "      <td>37898.50</td>\n",
       "      <td>0</td>\n",
       "    </tr>\n",
       "    <tr>\n",
       "      <th>7606</th>\n",
       "      <td>7607</td>\n",
       "      <td>15571571</td>\n",
       "      <td>Ting</td>\n",
       "      <td>680</td>\n",
       "      <td>Germany</td>\n",
       "      <td>Female</td>\n",
       "      <td>31</td>\n",
       "      <td>3</td>\n",
       "      <td>127331.46</td>\n",
       "      <td>3</td>\n",
       "      <td>1</td>\n",
       "      <td>1</td>\n",
       "      <td>176433.60</td>\n",
       "      <td>0</td>\n",
       "    </tr>\n",
       "    <tr>\n",
       "      <th>7482</th>\n",
       "      <td>7483</td>\n",
       "      <td>15750104</td>\n",
       "      <td>Chan</td>\n",
       "      <td>718</td>\n",
       "      <td>Germany</td>\n",
       "      <td>Male</td>\n",
       "      <td>43</td>\n",
       "      <td>5</td>\n",
       "      <td>132615.73</td>\n",
       "      <td>2</td>\n",
       "      <td>1</td>\n",
       "      <td>0</td>\n",
       "      <td>32999.10</td>\n",
       "      <td>0</td>\n",
       "    </tr>\n",
       "    <tr>\n",
       "      <th>422</th>\n",
       "      <td>423</td>\n",
       "      <td>15674551</td>\n",
       "      <td>Fitch</td>\n",
       "      <td>535</td>\n",
       "      <td>Germany</td>\n",
       "      <td>Male</td>\n",
       "      <td>40</td>\n",
       "      <td>7</td>\n",
       "      <td>111756.50</td>\n",
       "      <td>1</td>\n",
       "      <td>1</td>\n",
       "      <td>0</td>\n",
       "      <td>8128.32</td>\n",
       "      <td>1</td>\n",
       "    </tr>\n",
       "  </tbody>\n",
       "</table>\n",
       "</div>"
      ],
      "text/plain": [
       "      RowNumber  CustomerId      Surname  CreditScore Geography  Gender  Age  \\\n",
       "1736       1737    15663489         Onio          633   Germany  Female   29   \n",
       "3188       3189    15586757  Anenechukwu          801    France  Female   32   \n",
       "7606       7607    15571571         Ting          680   Germany  Female   31   \n",
       "7482       7483    15750104         Chan          718   Germany    Male   43   \n",
       "422         423    15674551        Fitch          535   Germany    Male   40   \n",
       "\n",
       "      Tenure    Balance  NumOfProducts  HasCrCard  IsActiveMember  \\\n",
       "1736       0  138577.34              1          1               0   \n",
       "3188       4   75170.54              1          1               1   \n",
       "7606       3  127331.46              3          1               1   \n",
       "7482       5  132615.73              2          1               0   \n",
       "422        7  111756.50              1          1               0   \n",
       "\n",
       "      EstimatedSalary  Exited  \n",
       "1736        193362.99       0  \n",
       "3188         37898.50       0  \n",
       "7606        176433.60       0  \n",
       "7482         32999.10       0  \n",
       "422           8128.32       1  "
      ]
     },
     "execution_count": 1149,
     "metadata": {},
     "output_type": "execute_result"
    }
   ],
   "source": [
    "df = pd.read_csv(\"Churn_Modelling.csv\")\n",
    "df.sample(5)"
   ]
  },
  {
   "cell_type": "code",
   "execution_count": 1150,
   "metadata": {},
   "outputs": [],
   "source": [
    "df.drop(['RowNumber','CustomerId','Surname'],axis='columns',inplace=True)"
   ]
  },
  {
   "cell_type": "code",
   "execution_count": 1151,
   "metadata": {},
   "outputs": [
    {
     "data": {
      "text/html": [
       "<div>\n",
       "<style scoped>\n",
       "    .dataframe tbody tr th:only-of-type {\n",
       "        vertical-align: middle;\n",
       "    }\n",
       "\n",
       "    .dataframe tbody tr th {\n",
       "        vertical-align: top;\n",
       "    }\n",
       "\n",
       "    .dataframe thead th {\n",
       "        text-align: right;\n",
       "    }\n",
       "</style>\n",
       "<table border=\"1\" class=\"dataframe\">\n",
       "  <thead>\n",
       "    <tr style=\"text-align: right;\">\n",
       "      <th></th>\n",
       "      <th>CreditScore</th>\n",
       "      <th>Geography</th>\n",
       "      <th>Gender</th>\n",
       "      <th>Age</th>\n",
       "      <th>Tenure</th>\n",
       "      <th>Balance</th>\n",
       "      <th>NumOfProducts</th>\n",
       "      <th>HasCrCard</th>\n",
       "      <th>IsActiveMember</th>\n",
       "      <th>EstimatedSalary</th>\n",
       "      <th>Exited</th>\n",
       "    </tr>\n",
       "  </thead>\n",
       "  <tbody>\n",
       "    <tr>\n",
       "      <th>9281</th>\n",
       "      <td>661</td>\n",
       "      <td>France</td>\n",
       "      <td>Female</td>\n",
       "      <td>31</td>\n",
       "      <td>3</td>\n",
       "      <td>133964.30</td>\n",
       "      <td>1</td>\n",
       "      <td>1</td>\n",
       "      <td>1</td>\n",
       "      <td>166187.10</td>\n",
       "      <td>0</td>\n",
       "    </tr>\n",
       "    <tr>\n",
       "      <th>6303</th>\n",
       "      <td>788</td>\n",
       "      <td>Germany</td>\n",
       "      <td>Female</td>\n",
       "      <td>49</td>\n",
       "      <td>4</td>\n",
       "      <td>137455.99</td>\n",
       "      <td>1</td>\n",
       "      <td>1</td>\n",
       "      <td>0</td>\n",
       "      <td>184178.29</td>\n",
       "      <td>1</td>\n",
       "    </tr>\n",
       "    <tr>\n",
       "      <th>5325</th>\n",
       "      <td>529</td>\n",
       "      <td>France</td>\n",
       "      <td>Female</td>\n",
       "      <td>43</td>\n",
       "      <td>0</td>\n",
       "      <td>123815.86</td>\n",
       "      <td>1</td>\n",
       "      <td>1</td>\n",
       "      <td>1</td>\n",
       "      <td>78463.99</td>\n",
       "      <td>1</td>\n",
       "    </tr>\n",
       "    <tr>\n",
       "      <th>931</th>\n",
       "      <td>564</td>\n",
       "      <td>Germany</td>\n",
       "      <td>Male</td>\n",
       "      <td>41</td>\n",
       "      <td>9</td>\n",
       "      <td>103522.75</td>\n",
       "      <td>2</td>\n",
       "      <td>1</td>\n",
       "      <td>1</td>\n",
       "      <td>34338.21</td>\n",
       "      <td>0</td>\n",
       "    </tr>\n",
       "    <tr>\n",
       "      <th>7049</th>\n",
       "      <td>602</td>\n",
       "      <td>France</td>\n",
       "      <td>Female</td>\n",
       "      <td>39</td>\n",
       "      <td>6</td>\n",
       "      <td>154121.32</td>\n",
       "      <td>2</td>\n",
       "      <td>1</td>\n",
       "      <td>0</td>\n",
       "      <td>176614.86</td>\n",
       "      <td>1</td>\n",
       "    </tr>\n",
       "  </tbody>\n",
       "</table>\n",
       "</div>"
      ],
      "text/plain": [
       "      CreditScore Geography  Gender  Age  Tenure    Balance  NumOfProducts  \\\n",
       "9281          661    France  Female   31       3  133964.30              1   \n",
       "6303          788   Germany  Female   49       4  137455.99              1   \n",
       "5325          529    France  Female   43       0  123815.86              1   \n",
       "931           564   Germany    Male   41       9  103522.75              2   \n",
       "7049          602    France  Female   39       6  154121.32              2   \n",
       "\n",
       "      HasCrCard  IsActiveMember  EstimatedSalary  Exited  \n",
       "9281          1               1        166187.10       0  \n",
       "6303          1               0        184178.29       1  \n",
       "5325          1               1         78463.99       1  \n",
       "931           1               1         34338.21       0  \n",
       "7049          1               0        176614.86       1  "
      ]
     },
     "execution_count": 1151,
     "metadata": {},
     "output_type": "execute_result"
    }
   ],
   "source": [
    "df.sample(5)"
   ]
  },
  {
   "cell_type": "markdown",
   "metadata": {},
   "source": [
    "# Data exploration"
   ]
  },
  {
   "cell_type": "code",
   "execution_count": 1152,
   "metadata": {},
   "outputs": [
    {
     "data": {
      "text/plain": [
       "CreditScore          int64\n",
       "Geography           object\n",
       "Gender              object\n",
       "Age                  int64\n",
       "Tenure               int64\n",
       "Balance            float64\n",
       "NumOfProducts        int64\n",
       "HasCrCard            int64\n",
       "IsActiveMember       int64\n",
       "EstimatedSalary    float64\n",
       "Exited               int64\n",
       "dtype: object"
      ]
     },
     "execution_count": 1152,
     "metadata": {},
     "output_type": "execute_result"
    }
   ],
   "source": [
    "df.dtypes"
   ]
  },
  {
   "cell_type": "code",
   "execution_count": 1153,
   "metadata": {},
   "outputs": [
    {
     "data": {
      "text/html": [
       "<div>\n",
       "<style scoped>\n",
       "    .dataframe tbody tr th:only-of-type {\n",
       "        vertical-align: middle;\n",
       "    }\n",
       "\n",
       "    .dataframe tbody tr th {\n",
       "        vertical-align: top;\n",
       "    }\n",
       "\n",
       "    .dataframe thead th {\n",
       "        text-align: right;\n",
       "    }\n",
       "</style>\n",
       "<table border=\"1\" class=\"dataframe\">\n",
       "  <thead>\n",
       "    <tr style=\"text-align: right;\">\n",
       "      <th></th>\n",
       "      <th>CreditScore</th>\n",
       "      <th>Age</th>\n",
       "      <th>Tenure</th>\n",
       "      <th>Balance</th>\n",
       "      <th>NumOfProducts</th>\n",
       "      <th>HasCrCard</th>\n",
       "      <th>IsActiveMember</th>\n",
       "      <th>EstimatedSalary</th>\n",
       "      <th>Exited</th>\n",
       "    </tr>\n",
       "  </thead>\n",
       "  <tbody>\n",
       "    <tr>\n",
       "      <th>count</th>\n",
       "      <td>10000.000000</td>\n",
       "      <td>10000.000000</td>\n",
       "      <td>10000.000000</td>\n",
       "      <td>10000.000000</td>\n",
       "      <td>10000.000000</td>\n",
       "      <td>10000.00000</td>\n",
       "      <td>10000.000000</td>\n",
       "      <td>10000.000000</td>\n",
       "      <td>10000.000000</td>\n",
       "    </tr>\n",
       "    <tr>\n",
       "      <th>mean</th>\n",
       "      <td>650.528800</td>\n",
       "      <td>38.921800</td>\n",
       "      <td>5.012800</td>\n",
       "      <td>76485.889288</td>\n",
       "      <td>1.530200</td>\n",
       "      <td>0.70550</td>\n",
       "      <td>0.515100</td>\n",
       "      <td>100090.239881</td>\n",
       "      <td>0.203700</td>\n",
       "    </tr>\n",
       "    <tr>\n",
       "      <th>std</th>\n",
       "      <td>96.653299</td>\n",
       "      <td>10.487806</td>\n",
       "      <td>2.892174</td>\n",
       "      <td>62397.405202</td>\n",
       "      <td>0.581654</td>\n",
       "      <td>0.45584</td>\n",
       "      <td>0.499797</td>\n",
       "      <td>57510.492818</td>\n",
       "      <td>0.402769</td>\n",
       "    </tr>\n",
       "    <tr>\n",
       "      <th>min</th>\n",
       "      <td>350.000000</td>\n",
       "      <td>18.000000</td>\n",
       "      <td>0.000000</td>\n",
       "      <td>0.000000</td>\n",
       "      <td>1.000000</td>\n",
       "      <td>0.00000</td>\n",
       "      <td>0.000000</td>\n",
       "      <td>11.580000</td>\n",
       "      <td>0.000000</td>\n",
       "    </tr>\n",
       "    <tr>\n",
       "      <th>25%</th>\n",
       "      <td>584.000000</td>\n",
       "      <td>32.000000</td>\n",
       "      <td>3.000000</td>\n",
       "      <td>0.000000</td>\n",
       "      <td>1.000000</td>\n",
       "      <td>0.00000</td>\n",
       "      <td>0.000000</td>\n",
       "      <td>51002.110000</td>\n",
       "      <td>0.000000</td>\n",
       "    </tr>\n",
       "    <tr>\n",
       "      <th>50%</th>\n",
       "      <td>652.000000</td>\n",
       "      <td>37.000000</td>\n",
       "      <td>5.000000</td>\n",
       "      <td>97198.540000</td>\n",
       "      <td>1.000000</td>\n",
       "      <td>1.00000</td>\n",
       "      <td>1.000000</td>\n",
       "      <td>100193.915000</td>\n",
       "      <td>0.000000</td>\n",
       "    </tr>\n",
       "    <tr>\n",
       "      <th>75%</th>\n",
       "      <td>718.000000</td>\n",
       "      <td>44.000000</td>\n",
       "      <td>7.000000</td>\n",
       "      <td>127644.240000</td>\n",
       "      <td>2.000000</td>\n",
       "      <td>1.00000</td>\n",
       "      <td>1.000000</td>\n",
       "      <td>149388.247500</td>\n",
       "      <td>0.000000</td>\n",
       "    </tr>\n",
       "    <tr>\n",
       "      <th>max</th>\n",
       "      <td>850.000000</td>\n",
       "      <td>92.000000</td>\n",
       "      <td>10.000000</td>\n",
       "      <td>250898.090000</td>\n",
       "      <td>4.000000</td>\n",
       "      <td>1.00000</td>\n",
       "      <td>1.000000</td>\n",
       "      <td>199992.480000</td>\n",
       "      <td>1.000000</td>\n",
       "    </tr>\n",
       "  </tbody>\n",
       "</table>\n",
       "</div>"
      ],
      "text/plain": [
       "        CreditScore           Age        Tenure        Balance  NumOfProducts  \\\n",
       "count  10000.000000  10000.000000  10000.000000   10000.000000   10000.000000   \n",
       "mean     650.528800     38.921800      5.012800   76485.889288       1.530200   \n",
       "std       96.653299     10.487806      2.892174   62397.405202       0.581654   \n",
       "min      350.000000     18.000000      0.000000       0.000000       1.000000   \n",
       "25%      584.000000     32.000000      3.000000       0.000000       1.000000   \n",
       "50%      652.000000     37.000000      5.000000   97198.540000       1.000000   \n",
       "75%      718.000000     44.000000      7.000000  127644.240000       2.000000   \n",
       "max      850.000000     92.000000     10.000000  250898.090000       4.000000   \n",
       "\n",
       "         HasCrCard  IsActiveMember  EstimatedSalary        Exited  \n",
       "count  10000.00000    10000.000000     10000.000000  10000.000000  \n",
       "mean       0.70550        0.515100    100090.239881      0.203700  \n",
       "std        0.45584        0.499797     57510.492818      0.402769  \n",
       "min        0.00000        0.000000        11.580000      0.000000  \n",
       "25%        0.00000        0.000000     51002.110000      0.000000  \n",
       "50%        1.00000        1.000000    100193.915000      0.000000  \n",
       "75%        1.00000        1.000000    149388.247500      0.000000  \n",
       "max        1.00000        1.000000    199992.480000      1.000000  "
      ]
     },
     "execution_count": 1153,
     "metadata": {},
     "output_type": "execute_result"
    }
   ],
   "source": [
    "df.describe()"
   ]
  },
  {
   "cell_type": "code",
   "execution_count": 1154,
   "metadata": {},
   "outputs": [
    {
     "name": "stdout",
     "output_type": "stream",
     "text": [
      "Gender\n",
      "Male      54.57\n",
      "Female    45.43\n",
      "Name: proportion, dtype: float64\n"
     ]
    }
   ],
   "source": [
    "gender_distribution = df['Gender'].value_counts(normalize=True) * 100\n",
    "\n",
    "print(gender_distribution)"
   ]
  },
  {
   "cell_type": "code",
   "execution_count": 1155,
   "metadata": {},
   "outputs": [
    {
     "data": {
      "text/plain": [
       "Geography\n",
       "France     50.14\n",
       "Germany    25.09\n",
       "Spain      24.77\n",
       "Name: proportion, dtype: float64"
      ]
     },
     "execution_count": 1155,
     "metadata": {},
     "output_type": "execute_result"
    }
   ],
   "source": [
    "df['Geography'].value_counts(normalize=True) * 100"
   ]
  },
  {
   "cell_type": "code",
   "execution_count": 1156,
   "metadata": {},
   "outputs": [
    {
     "data": {
      "text/plain": [
       "Exited\n",
       "0    79.63\n",
       "1    20.37\n",
       "Name: proportion, dtype: float64"
      ]
     },
     "execution_count": 1156,
     "metadata": {},
     "output_type": "execute_result"
    }
   ],
   "source": [
    "df['Exited'].value_counts(normalize=True) * 100"
   ]
  },
  {
   "cell_type": "markdown",
   "metadata": {},
   "source": [
    "# Data Visualization"
   ]
  },
  {
   "cell_type": "code",
   "execution_count": 1157,
   "metadata": {},
   "outputs": [
    {
     "data": {
      "text/plain": [
       "<matplotlib.legend.Legend at 0x1700a725350>"
      ]
     },
     "execution_count": 1157,
     "metadata": {},
     "output_type": "execute_result"
    },
    {
     "data": {
      "image/png": "[encoded data removed]",
      "text/plain": [
       "<Figure size 640x480 with 1 Axes>"
      ]
     },
     "metadata": {},
     "output_type": "display_data"
    }
   ],
   "source": [
    "tenure_exited_no = df[df.Exited== 0].Tenure\n",
    "tenure_exited_yes = df[df.Exited== 1].Tenure\n",
    "plt.xlabel(\"tenure\")\n",
    "plt.ylabel(\"No. of customers\")\n",
    "plt.hist([tenure_exited_no,tenure_exited_yes],color=['green','red'],label=['Exited=No','Exited=yes'])\n",
    "plt.legend()"
   ]
  },
  {
   "cell_type": "code",
   "execution_count": 1158,
   "metadata": {},
   "outputs": [
    {
     "data": {
      "text/plain": [
       "<matplotlib.legend.Legend at 0x16fae151110>"
      ]
     },
     "execution_count": 1158,
     "metadata": {},
     "output_type": "execute_result"
    },
    {
     "data": {
      "image/png": "[encoded data removed]",
      "text/plain": [
       "<Figure size 640x480 with 1 Axes>"
      ]
     },
     "metadata": {},
     "output_type": "display_data"
    }
   ],
   "source": [
    "balance_exited_no = df[df.Exited== 0].Balance\n",
    "balance_exited_yes = df[df.Exited== 1].Balance\n",
    "plt.xlabel(\"Balance\")\n",
    "plt.ylabel(\"No. of customers\")\n",
    "plt.hist([balance_exited_no,balance_exited_yes],color=['green','red'],label=['Exited=No','Exited=yes'])\n",
    "plt.legend()"
   ]
  },
  {
   "cell_type": "code",
   "execution_count": 1159,
   "metadata": {},
   "outputs": [
    {
     "data": {
      "text/plain": [
       "[]"
      ]
     },
     "execution_count": 1159,
     "metadata": {},
     "output_type": "execute_result"
    },
    {
     "data": {
      "image/png": "[encoded data removed]",
      "text/plain": [
       "<Figure size 640x480 with 1 Axes>"
      ]
     },
     "metadata": {},
     "output_type": "display_data"
    }
   ],
   "source": [
    "plt.xlabel(\"Balance\")\n",
    "plt.ylabel(\"No. of customers\")\n",
    "plt.hist(df['Balance'])\n",
    "plt.plot()"
   ]
  },
  {
   "cell_type": "code",
   "execution_count": 1160,
   "metadata": {},
   "outputs": [
    {
     "data": {
      "text/plain": [
       "[]"
      ]
     },
     "execution_count": 1160,
     "metadata": {},
     "output_type": "execute_result"
    },
    {
     "data": {
      "image/png": "[encoded data removed]",
      "text/plain": [
       "<Figure size 640x480 with 1 Axes>"
      ]
     },
     "metadata": {},
     "output_type": "display_data"
    }
   ],
   "source": [
    "plt.xlabel(\"Age\")\n",
    "plt.ylabel(\"No. of customers\")\n",
    "plt.hist(df['Age'])\n",
    "plt.plot()"
   ]
  },
  {
   "cell_type": "code",
   "execution_count": 1161,
   "metadata": {},
   "outputs": [
    {
     "data": {
      "text/plain": [
       "[]"
      ]
     },
     "execution_count": 1161,
     "metadata": {},
     "output_type": "execute_result"
    },
    {
     "data": {
      "image/png": "[encoded data removed]",
      "text/plain": [
       "<Figure size 640x480 with 1 Axes>"
      ]
     },
     "metadata": {},
     "output_type": "display_data"
    }
   ],
   "source": [
    "plt.xlabel(\"Credit Score\")\n",
    "plt.ylabel(\"No. of customers\")\n",
    "plt.hist(df['CreditScore'])\n",
    "plt.plot()"
   ]
  },
  {
   "cell_type": "code",
   "execution_count": 1162,
   "metadata": {},
   "outputs": [
    {
     "data": {
      "text/plain": [
       "[]"
      ]
     },
     "execution_count": 1162,
     "metadata": {},
     "output_type": "execute_result"
    },
    {
     "data": {
      "image/png": "[encoded data removed]",
      "text/plain": [
       "<Figure size 640x480 with 1 Axes>"
      ]
     },
     "metadata": {},
     "output_type": "display_data"
    }
   ],
   "source": [
    "plt.xlabel(\"Tenure\")\n",
    "plt.ylabel(\"No. of customers\")\n",
    "plt.hist(df['Tenure'])\n",
    "plt.plot()"
   ]
  },
  {
   "cell_type": "markdown",
   "metadata": {},
   "source": [
    "# Encoding and scaling the data"
   ]
  },
  {
   "cell_type": "code",
   "execution_count": 1163,
   "metadata": {},
   "outputs": [
    {
     "name": "stdout",
     "output_type": "stream",
     "text": [
      "CreditScore : [619 608 502 699 850 645 822 376 501 684 528 497 476 549 635 616 653 587\n",
      " 726 732 636 510 669 846 577 756 571 574 411 591 533 553 520 722 475 490\n",
      " 804 582 472 465 556 834 660 776 829 637 550 698 585 788 655 601 656 725\n",
      " 511 614 742 687 555 603 751 581 735 661 675 738 813 657 604 519 664 678\n",
      " 757 416 665 777 543 506 493 652 750 729 646 647 808 524 769 730 515 773\n",
      " 814 710 413 623 670 622 785 605 479 685 538 562 721 628 668 828 674 625\n",
      " 432 770 758 795 686 789 589 461 584 579 663 682 793 691 485 650 754 535\n",
      " 716 539 706 586 631 717 800 683 704 615 667 484 480 578 512 606 597 778\n",
      " 514 525 715 580 807 521 759 516 711 618 643 671 689 620 676 572 695 592\n",
      " 567 694 547 594 673 610 767 763 712 703 662 659 523 772 545 634 739 771\n",
      " 681 544 696 766 727 693 557 531 498 651 791 733 811 707 714 782 775 799\n",
      " 602 744 588 747 583 627 731 629 438 642 806 474 559 429 680 749 734 644\n",
      " 626 649 805 718 840 630 654 762 568 613 522 737 648 443 640 540 460 593\n",
      " 801 611 802 745 483 690 492 709 705 560 752 701 537 487 596 702 486 724\n",
      " 548 464 790 534 748 494 590 468 509 818 816 536 753 774 621 569 658 798\n",
      " 641 542 692 639 765 570 638 599 632 779 527 564 833 504 842 508 417 598\n",
      " 741 607 761 848 546 439 755 760 526 713 700 666 566 495 688 612 477 427\n",
      " 839 819 720 459 503 624 529 563 482 796 445 746 786 554 672 787 499 844\n",
      " 450 815 838 803 736 633 600 679 517 792 743 488 421 841 708 507 505 456\n",
      " 435 561 518 565 728 784 552 609 764 697 723 551 444 719 496 541 830 812\n",
      " 677 420 595 617 809 500 826 434 513 478 797 363 399 463 780 452 575 837\n",
      " 794 824 428 823 781 849 489 431 457 768 831 359 820 573 576 558 817 449\n",
      " 440 415 821 530 350 446 425 740 481 783 358 845 451 458 469 423 404 836\n",
      " 473 835 466 491 351 827 843 365 532 414 453 471 401 810 832 470 447 422\n",
      " 825 430 436 426 408 847 418 437 410 454 407 455 462 386 405 383 395 467\n",
      " 433 442 424 448 441 367 412 382 373 419]\n",
      "Geography : ['France' 'Spain' 'Germany']\n",
      "Gender : ['Female' 'Male']\n",
      "Age : [42 41 39 43 44 50 29 27 31 24 34 25 35 45 58 32 38 46 36 33 40 51 61 49\n",
      " 37 19 66 56 26 21 55 75 22 30 28 65 48 52 57 73 47 54 72 20 67 79 62 53\n",
      " 80 59 68 23 60 70 63 64 18 82 69 74 71 76 77 88 85 84 78 81 92 83]\n",
      "Tenure : [ 2  1  8  7  4  6  3 10  5  9  0]\n",
      "Balance : [     0.    83807.86 159660.8  ...  57369.61  75075.31 130142.79]\n",
      "NumOfProducts : [1 3 2 4]\n",
      "HasCrCard : [1 0]\n",
      "IsActiveMember : [1 0]\n",
      "EstimatedSalary : [101348.88 112542.58 113931.57 ...  42085.58  92888.52  38190.78]\n",
      "Exited : [1 0]\n"
     ]
    }
   ],
   "source": [
    "for col in df:\n",
    "    print(f'{col} : {df[col].unique()}')"
   ]
  },
  {
   "cell_type": "code",
   "execution_count": 1164,
   "metadata": {},
   "outputs": [],
   "source": [
    "df.replace({'Female': 0,'Male':1},inplace= True)\n",
    "df.replace({'France': 0,'Spain':1,'Germany':3},inplace= True)"
   ]
  },
  {
   "cell_type": "code",
   "execution_count": 1165,
   "metadata": {},
   "outputs": [],
   "source": [
    "from sklearn.preprocessing import MinMaxScaler\n",
    "scaler = MinMaxScaler()"
   ]
  },
  {
   "cell_type": "code",
   "execution_count": 1166,
   "metadata": {},
   "outputs": [],
   "source": [
    "df['Tenure'] = scaler.fit_transform(df[[\"Tenure\"]])"
   ]
  },
  {
   "cell_type": "markdown",
   "metadata": {},
   "source": [
    "Use Robust scaler to avoid the outliers in the data"
   ]
  },
  {
   "cell_type": "code",
   "execution_count": 1167,
   "metadata": {},
   "outputs": [],
   "source": [
    "from sklearn.preprocessing import RobustScaler\n",
    "scaler2 = RobustScaler()"
   ]
  },
  {
   "cell_type": "code",
   "execution_count": 1168,
   "metadata": {},
   "outputs": [],
   "source": [
    "cols_to_scale = [\"CreditScore\",\"Age\",\"Balance\",\"EstimatedSalary\"]"
   ]
  },
  {
   "cell_type": "code",
   "execution_count": 1169,
   "metadata": {},
   "outputs": [],
   "source": [
    "df[cols_to_scale] = scaler2.fit_transform(df[cols_to_scale])"
   ]
  },
  {
   "cell_type": "code",
   "execution_count": 1182,
   "metadata": {},
   "outputs": [
    {
     "data": {
      "text/html": [
       "<div>\n",
       "<style scoped>\n",
       "    .dataframe tbody tr th:only-of-type {\n",
       "        vertical-align: middle;\n",
       "    }\n",
       "\n",
       "    .dataframe tbody tr th {\n",
       "        vertical-align: top;\n",
       "    }\n",
       "\n",
       "    .dataframe thead th {\n",
       "        text-align: right;\n",
       "    }\n",
       "</style>\n",
       "<table border=\"1\" class=\"dataframe\">\n",
       "  <thead>\n",
       "    <tr style=\"text-align: right;\">\n",
       "      <th></th>\n",
       "      <th>CreditScore</th>\n",
       "      <th>Geography</th>\n",
       "      <th>Gender</th>\n",
       "      <th>Age</th>\n",
       "      <th>Tenure</th>\n",
       "      <th>Balance</th>\n",
       "      <th>NumOfProducts</th>\n",
       "      <th>HasCrCard</th>\n",
       "      <th>IsActiveMember</th>\n",
       "      <th>EstimatedSalary</th>\n",
       "      <th>Exited</th>\n",
       "    </tr>\n",
       "  </thead>\n",
       "  <tbody>\n",
       "    <tr>\n",
       "      <th>4661</th>\n",
       "      <td>0.955224</td>\n",
       "      <td>0</td>\n",
       "      <td>0</td>\n",
       "      <td>0.500000</td>\n",
       "      <td>0.0</td>\n",
       "      <td>-0.761480</td>\n",
       "      <td>1</td>\n",
       "      <td>0</td>\n",
       "      <td>1</td>\n",
       "      <td>-0.858745</td>\n",
       "      <td>0</td>\n",
       "    </tr>\n",
       "    <tr>\n",
       "      <th>6835</th>\n",
       "      <td>1.179104</td>\n",
       "      <td>0</td>\n",
       "      <td>1</td>\n",
       "      <td>-0.333333</td>\n",
       "      <td>0.6</td>\n",
       "      <td>-0.761480</td>\n",
       "      <td>2</td>\n",
       "      <td>1</td>\n",
       "      <td>1</td>\n",
       "      <td>-0.225929</td>\n",
       "      <td>0</td>\n",
       "    </tr>\n",
       "    <tr>\n",
       "      <th>9923</th>\n",
       "      <td>0.544776</td>\n",
       "      <td>0</td>\n",
       "      <td>0</td>\n",
       "      <td>-0.666667</td>\n",
       "      <td>0.6</td>\n",
       "      <td>-0.761480</td>\n",
       "      <td>2</td>\n",
       "      <td>1</td>\n",
       "      <td>1</td>\n",
       "      <td>0.920688</td>\n",
       "      <td>0</td>\n",
       "    </tr>\n",
       "    <tr>\n",
       "      <th>2091</th>\n",
       "      <td>0.067164</td>\n",
       "      <td>0</td>\n",
       "      <td>0</td>\n",
       "      <td>0.000000</td>\n",
       "      <td>0.5</td>\n",
       "      <td>0.307312</td>\n",
       "      <td>1</td>\n",
       "      <td>1</td>\n",
       "      <td>0</td>\n",
       "      <td>-0.194043</td>\n",
       "      <td>0</td>\n",
       "    </tr>\n",
       "    <tr>\n",
       "      <th>6118</th>\n",
       "      <td>-0.149254</td>\n",
       "      <td>0</td>\n",
       "      <td>0</td>\n",
       "      <td>1.000000</td>\n",
       "      <td>0.5</td>\n",
       "      <td>0.554386</td>\n",
       "      <td>1</td>\n",
       "      <td>0</td>\n",
       "      <td>0</td>\n",
       "      <td>0.406635</td>\n",
       "      <td>0</td>\n",
       "    </tr>\n",
       "  </tbody>\n",
       "</table>\n",
       "</div>"
      ],
      "text/plain": [
       "      CreditScore  Geography  Gender       Age  Tenure   Balance  \\\n",
       "4661     0.955224          0       0  0.500000     0.0 -0.761480   \n",
       "6835     1.179104          0       1 -0.333333     0.6 -0.761480   \n",
       "9923     0.544776          0       0 -0.666667     0.6 -0.761480   \n",
       "2091     0.067164          0       0  0.000000     0.5  0.307312   \n",
       "6118    -0.149254          0       0  1.000000     0.5  0.554386   \n",
       "\n",
       "      NumOfProducts  HasCrCard  IsActiveMember  EstimatedSalary  Exited  \n",
       "4661              1          0               1        -0.858745       0  \n",
       "6835              2          1               1        -0.225929       0  \n",
       "9923              2          1               1         0.920688       0  \n",
       "2091              1          1               0        -0.194043       0  \n",
       "6118              1          0               0         0.406635       0  "
      ]
     },
     "execution_count": 1182,
     "metadata": {},
     "output_type": "execute_result"
    }
   ],
   "source": [
    "df.sample(5)"
   ]
  },
  {
   "cell_type": "code",
   "execution_count": 1172,
   "metadata": {},
   "outputs": [
    {
     "data": {
      "text/plain": [
       "(10000, 11)"
      ]
     },
     "execution_count": 1172,
     "metadata": {},
     "output_type": "execute_result"
    }
   ],
   "source": [
    "df.shape"
   ]
  },
  {
   "cell_type": "markdown",
   "metadata": {},
   "source": [
    "# Spliting the data and Using SMOTE to solve the imbalance problem in the data (Exit values are 80 to 20)"
   ]
  },
  {
   "cell_type": "code",
   "execution_count": 1173,
   "metadata": {},
   "outputs": [],
   "source": [
    "X = df.drop('Exited',axis='columns')\n",
    "y = df['Exited']\n",
    "\n",
    "from sklearn.model_selection import train_test_split"
   ]
  },
  {
   "cell_type": "code",
   "execution_count": 1174,
   "metadata": {},
   "outputs": [
    {
     "data": {
      "text/plain": [
       "Exited\n",
       "1    7963\n",
       "0    7963\n",
       "Name: count, dtype: int64"
      ]
     },
     "execution_count": 1174,
     "metadata": {},
     "output_type": "execute_result"
    }
   ],
   "source": [
    "from imblearn.over_sampling import SMOTE\n",
    "\n",
    "smote = SMOTE(sampling_strategy='minority')\n",
    "X_sm, y_sm = smote.fit_resample(X,y)\n",
    "\n",
    "y_sm.value_counts()"
   ]
  },
  {
   "cell_type": "code",
   "execution_count": 1175,
   "metadata": {},
   "outputs": [
    {
     "data": {
      "text/plain": [
       "(15926,)"
      ]
     },
     "execution_count": 1175,
     "metadata": {},
     "output_type": "execute_result"
    }
   ],
   "source": [
    "y_sm.shape"
   ]
  },
  {
   "cell_type": "code",
   "execution_count": 1176,
   "metadata": {},
   "outputs": [],
   "source": [
    "\n",
    "X_train, X_test, y_train, y_test = train_test_split(X_sm,y_sm,test_size=0.2,random_state=42,stratify=y_sm)"
   ]
  },
  {
   "cell_type": "markdown",
   "metadata": {},
   "source": [
    "# Model building and Evaluating it's accuracy,classification report on the test data "
   ]
  },
  {
   "cell_type": "code",
   "execution_count": 1183,
   "metadata": {},
   "outputs": [
    {
     "name": "stdout",
     "output_type": "stream",
     "text": [
      "Epoch 1/80\n",
      "399/399 [==============================] - 2s 2ms/step - loss: 0.5007 - accuracy: 0.7520\n",
      "Epoch 2/80\n",
      "399/399 [==============================] - 1s 2ms/step - loss: 0.4525 - accuracy: 0.7889\n",
      "Epoch 3/80\n",
      "399/399 [==============================] - 1s 2ms/step - loss: 0.4445 - accuracy: 0.7914\n",
      "Epoch 4/80\n",
      "399/399 [==============================] - 1s 2ms/step - loss: 0.4378 - accuracy: 0.7943\n",
      "Epoch 5/80\n",
      "399/399 [==============================] - 1s 2ms/step - loss: 0.4335 - accuracy: 0.7961\n",
      "Epoch 6/80\n",
      "399/399 [==============================] - 1s 2ms/step - loss: 0.4272 - accuracy: 0.8020\n",
      "Epoch 7/80\n",
      "399/399 [==============================] - 1s 2ms/step - loss: 0.4218 - accuracy: 0.8060\n",
      "Epoch 8/80\n",
      "399/399 [==============================] - 1s 2ms/step - loss: 0.4191 - accuracy: 0.8075\n",
      "Epoch 9/80\n",
      "399/399 [==============================] - 1s 2ms/step - loss: 0.4161 - accuracy: 0.8053\n",
      "Epoch 10/80\n",
      "399/399 [==============================] - 1s 2ms/step - loss: 0.4130 - accuracy: 0.8108\n",
      "Epoch 11/80\n",
      "399/399 [==============================] - 1s 2ms/step - loss: 0.4087 - accuracy: 0.8093\n",
      "Epoch 12/80\n",
      "399/399 [==============================] - 1s 2ms/step - loss: 0.4091 - accuracy: 0.8122\n",
      "Epoch 13/80\n",
      "399/399 [==============================] - 1s 2ms/step - loss: 0.4065 - accuracy: 0.8141\n",
      "Epoch 14/80\n",
      "399/399 [==============================] - 1s 2ms/step - loss: 0.4062 - accuracy: 0.8130\n",
      "Epoch 15/80\n",
      "399/399 [==============================] - 1s 2ms/step - loss: 0.4020 - accuracy: 0.8166\n",
      "Epoch 16/80\n",
      "399/399 [==============================] - 1s 2ms/step - loss: 0.4023 - accuracy: 0.8171\n",
      "Epoch 17/80\n",
      "399/399 [==============================] - 1s 2ms/step - loss: 0.3990 - accuracy: 0.8173\n",
      "Epoch 18/80\n",
      "399/399 [==============================] - 1s 2ms/step - loss: 0.3986 - accuracy: 0.8177\n",
      "Epoch 19/80\n",
      "399/399 [==============================] - 1s 2ms/step - loss: 0.3959 - accuracy: 0.8177\n",
      "Epoch 20/80\n",
      "399/399 [==============================] - 1s 2ms/step - loss: 0.3932 - accuracy: 0.8207\n",
      "Epoch 21/80\n",
      "399/399 [==============================] - 1s 2ms/step - loss: 0.3929 - accuracy: 0.8210\n",
      "Epoch 22/80\n",
      "399/399 [==============================] - 1s 2ms/step - loss: 0.3892 - accuracy: 0.8226\n",
      "Epoch 23/80\n",
      "399/399 [==============================] - 1s 2ms/step - loss: 0.3894 - accuracy: 0.8240\n",
      "Epoch 24/80\n",
      "399/399 [==============================] - 1s 2ms/step - loss: 0.3876 - accuracy: 0.8224\n",
      "Epoch 25/80\n",
      "399/399 [==============================] - 1s 2ms/step - loss: 0.3844 - accuracy: 0.8232\n",
      "Epoch 26/80\n",
      "399/399 [==============================] - 1s 2ms/step - loss: 0.3847 - accuracy: 0.8284\n",
      "Epoch 27/80\n",
      "399/399 [==============================] - 1s 2ms/step - loss: 0.3814 - accuracy: 0.8295\n",
      "Epoch 28/80\n",
      "399/399 [==============================] - 1s 2ms/step - loss: 0.3830 - accuracy: 0.8266\n",
      "Epoch 29/80\n",
      "399/399 [==============================] - 1s 2ms/step - loss: 0.3799 - accuracy: 0.8281\n",
      "Epoch 30/80\n",
      "399/399 [==============================] - 1s 2ms/step - loss: 0.3755 - accuracy: 0.8292\n",
      "Epoch 31/80\n",
      "399/399 [==============================] - 1s 2ms/step - loss: 0.3760 - accuracy: 0.8289\n",
      "Epoch 32/80\n",
      "399/399 [==============================] - 1s 2ms/step - loss: 0.3738 - accuracy: 0.8344\n",
      "Epoch 33/80\n",
      "399/399 [==============================] - 1s 2ms/step - loss: 0.3689 - accuracy: 0.8365\n",
      "Epoch 34/80\n",
      "399/399 [==============================] - 1s 2ms/step - loss: 0.3705 - accuracy: 0.8327\n",
      "Epoch 35/80\n",
      "399/399 [==============================] - 1s 2ms/step - loss: 0.3709 - accuracy: 0.8327\n",
      "Epoch 36/80\n",
      "399/399 [==============================] - 1s 2ms/step - loss: 0.3698 - accuracy: 0.8337\n",
      "Epoch 37/80\n",
      "399/399 [==============================] - 1s 2ms/step - loss: 0.3675 - accuracy: 0.8371\n",
      "Epoch 38/80\n",
      "399/399 [==============================] - 1s 2ms/step - loss: 0.3658 - accuracy: 0.8366\n",
      "Epoch 39/80\n",
      "399/399 [==============================] - 1s 2ms/step - loss: 0.3672 - accuracy: 0.8358\n",
      "Epoch 40/80\n",
      "399/399 [==============================] - 1s 2ms/step - loss: 0.3678 - accuracy: 0.8326\n",
      "Epoch 41/80\n",
      "399/399 [==============================] - 1s 2ms/step - loss: 0.3630 - accuracy: 0.8387\n",
      "Epoch 42/80\n",
      "399/399 [==============================] - 1s 2ms/step - loss: 0.3659 - accuracy: 0.8366\n",
      "Epoch 43/80\n",
      "399/399 [==============================] - 1s 2ms/step - loss: 0.3623 - accuracy: 0.8391\n",
      "Epoch 44/80\n",
      "399/399 [==============================] - 1s 2ms/step - loss: 0.3628 - accuracy: 0.8371\n",
      "Epoch 45/80\n",
      "399/399 [==============================] - 1s 2ms/step - loss: 0.3627 - accuracy: 0.8382\n",
      "Epoch 46/80\n",
      "399/399 [==============================] - 1s 2ms/step - loss: 0.3603 - accuracy: 0.8398\n",
      "Epoch 47/80\n",
      "399/399 [==============================] - 1s 2ms/step - loss: 0.3608 - accuracy: 0.8395\n",
      "Epoch 48/80\n",
      "399/399 [==============================] - 1s 2ms/step - loss: 0.3626 - accuracy: 0.8399\n",
      "Epoch 49/80\n",
      "399/399 [==============================] - 1s 2ms/step - loss: 0.3595 - accuracy: 0.8402\n",
      "Epoch 50/80\n",
      "399/399 [==============================] - 1s 2ms/step - loss: 0.3572 - accuracy: 0.8422\n",
      "Epoch 51/80\n",
      "399/399 [==============================] - 1s 2ms/step - loss: 0.3591 - accuracy: 0.8414\n",
      "Epoch 52/80\n",
      "399/399 [==============================] - 1s 2ms/step - loss: 0.3581 - accuracy: 0.8446\n",
      "Epoch 53/80\n",
      "399/399 [==============================] - 1s 2ms/step - loss: 0.3573 - accuracy: 0.8419\n",
      "Epoch 54/80\n",
      "399/399 [==============================] - 1s 2ms/step - loss: 0.3581 - accuracy: 0.8420\n",
      "Epoch 55/80\n",
      "399/399 [==============================] - 1s 2ms/step - loss: 0.3598 - accuracy: 0.8415\n",
      "Epoch 56/80\n",
      "399/399 [==============================] - 1s 2ms/step - loss: 0.3553 - accuracy: 0.8451\n",
      "Epoch 57/80\n",
      "399/399 [==============================] - 1s 2ms/step - loss: 0.3566 - accuracy: 0.8434\n",
      "Epoch 58/80\n",
      "399/399 [==============================] - 1s 2ms/step - loss: 0.3576 - accuracy: 0.8405\n",
      "Epoch 59/80\n",
      "399/399 [==============================] - 1s 2ms/step - loss: 0.3556 - accuracy: 0.8423\n",
      "Epoch 60/80\n",
      "399/399 [==============================] - 1s 2ms/step - loss: 0.3531 - accuracy: 0.8428\n",
      "Epoch 61/80\n",
      "399/399 [==============================] - 1s 2ms/step - loss: 0.3575 - accuracy: 0.8424\n",
      "Epoch 62/80\n",
      "399/399 [==============================] - 1s 2ms/step - loss: 0.3540 - accuracy: 0.8425\n",
      "Epoch 63/80\n",
      "399/399 [==============================] - 1s 2ms/step - loss: 0.3520 - accuracy: 0.8464\n",
      "Epoch 64/80\n",
      "399/399 [==============================] - 1s 2ms/step - loss: 0.3533 - accuracy: 0.8460\n",
      "Epoch 65/80\n",
      "399/399 [==============================] - 1s 2ms/step - loss: 0.3556 - accuracy: 0.8445\n",
      "Epoch 66/80\n",
      "399/399 [==============================] - 1s 2ms/step - loss: 0.3536 - accuracy: 0.8430\n",
      "Epoch 67/80\n",
      "399/399 [==============================] - 1s 2ms/step - loss: 0.3519 - accuracy: 0.8456\n",
      "Epoch 68/80\n",
      "399/399 [==============================] - 1s 2ms/step - loss: 0.3516 - accuracy: 0.8459\n",
      "Epoch 69/80\n",
      "399/399 [==============================] - 1s 2ms/step - loss: 0.3530 - accuracy: 0.8434\n",
      "Epoch 70/80\n",
      "399/399 [==============================] - 1s 2ms/step - loss: 0.3481 - accuracy: 0.8473\n",
      "Epoch 71/80\n",
      "399/399 [==============================] - 1s 2ms/step - loss: 0.3514 - accuracy: 0.8444\n",
      "Epoch 72/80\n",
      "399/399 [==============================] - 1s 2ms/step - loss: 0.3511 - accuracy: 0.8429\n",
      "Epoch 73/80\n",
      "399/399 [==============================] - 1s 2ms/step - loss: 0.3515 - accuracy: 0.8432\n",
      "Epoch 74/80\n",
      "399/399 [==============================] - 1s 2ms/step - loss: 0.3479 - accuracy: 0.8476\n",
      "Epoch 75/80\n",
      "399/399 [==============================] - 1s 2ms/step - loss: 0.3504 - accuracy: 0.8464\n",
      "Epoch 76/80\n",
      "399/399 [==============================] - 1s 2ms/step - loss: 0.3525 - accuracy: 0.8443\n",
      "Epoch 77/80\n",
      "399/399 [==============================] - 1s 2ms/step - loss: 0.3494 - accuracy: 0.8451\n",
      "Epoch 78/80\n",
      "399/399 [==============================] - 1s 2ms/step - loss: 0.3513 - accuracy: 0.8456\n",
      "Epoch 79/80\n",
      "399/399 [==============================] - 1s 2ms/step - loss: 0.3514 - accuracy: 0.8426\n",
      "Epoch 80/80\n",
      "399/399 [==============================] - 1s 2ms/step - loss: 0.3479 - accuracy: 0.8469\n"
     ]
    },
    {
     "data": {
      "text/plain": [
       "<keras.src.callbacks.History at 0x17013154490>"
      ]
     },
     "execution_count": 1183,
     "metadata": {},
     "output_type": "execute_result"
    }
   ],
   "source": [
    "import tensorflow as tf\n",
    "from tensorflow import keras\n",
    "\n",
    "\n",
    "model = keras.Sequential([\n",
    "    keras.layers.Dense(16,input_shape=(10,), activation='gelu'),\n",
    "    keras.layers.Dense(32,activation='gelu'),\n",
    "    keras.layers.Dense(1, activation='sigmoid')\n",
    "])\n",
    "\n",
    "opt = keras.optimizers.Adam(learning_rate=0.01)\n",
    "\n",
    "model.compile(optimizer=opt,\n",
    "              loss='binary_crossentropy',\n",
    "              metrics=['accuracy'])\n",
    "\n",
    "model.fit(X_train, y_train, epochs=80)"
   ]
  },
  {
   "cell_type": "code",
   "execution_count": 1184,
   "metadata": {},
   "outputs": [
    {
     "name": "stdout",
     "output_type": "stream",
     "text": [
      "100/100 [==============================] - 0s 2ms/step - loss: 0.4038 - accuracy: 0.8198\n"
     ]
    },
    {
     "data": {
      "text/plain": [
       "[0.4038485586643219, 0.8198367953300476]"
      ]
     },
     "execution_count": 1184,
     "metadata": {},
     "output_type": "execute_result"
    }
   ],
   "source": [
    "model.evaluate(X_test, y_test)"
   ]
  },
  {
   "cell_type": "code",
   "execution_count": 1185,
   "metadata": {},
   "outputs": [
    {
     "name": "stdout",
     "output_type": "stream",
     "text": [
      "100/100 [==============================] - 0s 1ms/step\n"
     ]
    }
   ],
   "source": [
    "yp = model.predict(X_test)"
   ]
  },
  {
   "cell_type": "code",
   "execution_count": 1186,
   "metadata": {},
   "outputs": [],
   "source": [
    "y_pred = []\n",
    "for element in yp:\n",
    "    if element > 0.5:\n",
    "        y_pred.append(1)\n",
    "    else:\n",
    "        y_pred.append(0)"
   ]
  },
  {
   "cell_type": "code",
   "execution_count": 1187,
   "metadata": {},
   "outputs": [
    {
     "name": "stdout",
     "output_type": "stream",
     "text": [
      "              precision    recall  f1-score   support\n",
      "\n",
      "           0       0.82      0.82      0.82      1593\n",
      "           1       0.82      0.81      0.82      1593\n",
      "\n",
      "    accuracy                           0.82      3186\n",
      "   macro avg       0.82      0.82      0.82      3186\n",
      "weighted avg       0.82      0.82      0.82      3186\n",
      "\n"
     ]
    }
   ],
   "source": [
    "from sklearn.metrics import confusion_matrix , classification_report\n",
    "\n",
    "print(classification_report(y_test,y_pred))"
   ]
  }
 ],
 "metadata": {
  "kernelspec": {
   "display_name": "Python 3",
   "language": "python",
   "name": "python3"
  },
  "language_info": {
   "codemirror_mode": {
    "name": "ipython",
    "version": 3
   },
   "file_extension": ".py",
   "mimetype": "text/x-python",
   "name": "python",
   "nbconvert_exporter": "python",
   "pygments_lexer": "ipython3",
   "version": "3.11.0"
  }
 },
 "nbformat": 4,
 "nbformat_minor": 2
}
